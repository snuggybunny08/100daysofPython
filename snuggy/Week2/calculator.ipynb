{
 "cells": [
  {
   "cell_type": "code",
   "execution_count": 1,
   "metadata": {},
   "outputs": [
    {
     "name": "stdout",
     "output_type": "stream",
     "text": [
      "Snuggy\n",
      "Bunny\n"
     ]
    }
   ],
   "source": [
    "# Functions with outputs\n",
    " \n",
    "def format_name(f_name,l_name):\n",
    "    print(f_name.title())\n",
    "    print(l_name.title())   \n",
    "    \n",
    "format_name('SNUggY', 'Bunny')\n",
    "     \n",
    " \n",
    "     "
   ]
  },
  {
   "cell_type": "code",
   "execution_count": 5,
   "metadata": {},
   "outputs": [
    {
     "name": "stdout",
     "output_type": "stream",
     "text": [
      "Snuggy  Bunny\n"
     ]
    }
   ],
   "source": [
    "def format_name(f_name,l_name):\n",
    "    formated_f_name = f_name.title()\n",
    "    formated_l_name = l_name.title()   \n",
    "    return f'{formated_f_name }  {formated_l_name }'\n",
    "\n",
    "formated_string = format_name('SnuGGy', 'bunnY')\n",
    "print(formated_string)"
   ]
  }
 ],
 "metadata": {
  "kernelspec": {
   "display_name": "Python 3.8.8 ('base')",
   "language": "python",
   "name": "python3"
  },
  "language_info": {
   "codemirror_mode": {
    "name": "ipython",
    "version": 3
   },
   "file_extension": ".py",
   "mimetype": "text/x-python",
   "name": "python",
   "nbconvert_exporter": "python",
   "pygments_lexer": "ipython3",
   "version": "3.8.8"
  },
  "orig_nbformat": 4,
  "vscode": {
   "interpreter": {
    "hash": "ef286fdfeb4c69657c9177c8dfa954b639cd3ec27c099f8a8135b810a92e4211"
   }
  }
 },
 "nbformat": 4,
 "nbformat_minor": 2
}
